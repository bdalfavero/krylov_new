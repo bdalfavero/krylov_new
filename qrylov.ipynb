{
 "cells": [
  {
   "cell_type": "markdown",
   "id": "88957916",
   "metadata": {},
   "source": [
    "# Qrylov"
   ]
  },
  {
   "cell_type": "markdown",
   "id": "7aa7ecf0",
   "metadata": {},
   "source": [
    "## Setup"
   ]
  },
  {
   "cell_type": "code",
   "execution_count": 1,
   "id": "cf873f86",
   "metadata": {},
   "outputs": [],
   "source": [
    "from typing import List, Tuple\n",
    "\n",
    "import matplotlib.pyplot as plt\n",
    "import numpy as np\n",
    "import scipy as sp\n",
    "\n",
    "import openfermion as of"
   ]
  },
  {
   "cell_type": "code",
   "execution_count": 2,
   "id": "5ce8c132",
   "metadata": {},
   "outputs": [],
   "source": [
    "def fill_h_and_s_matrices(\n",
    "    vectors: List[np.ndarray],\n",
    "    matrix: np.ndarray,\n",
    "    verbose: bool = False,\n",
    ") -> Tuple[np.ndarray, np.ndarray]:\n",
    "    dim = len(vectors)\n",
    "    h = np.zeros((dim, dim), dtype=np.complex128)\n",
    "    s = np.zeros((dim, dim), dtype=np.complex128)\n",
    "\n",
    "    for i in range(dim):\n",
    "        for j in range(i, dim):\n",
    "            if verbose:\n",
    "                print(i, j)\n",
    "            hij = vectors[i].conj().T @ matrix @ vectors[j]\n",
    "            h[i, j] = hij\n",
    "\n",
    "            if i != j:\n",
    "                h[j, i] = np.conjugate(hij)\n",
    "\n",
    "            sij = vectors[i].conj().T @ vectors[j]\n",
    "            s[i, j] = sij\n",
    "            if i != j:\n",
    "                s[j, i] = np.conjugate(sij)\n",
    "    return h, s\n",
    "\n",
    "\n",
    "# Based on https://quantum.cloud.ibm.com/docs/en/tutorials/krylov-quantum-diagonalization.\n",
    "# and Algorithm 1.1 of https://arxiv.org/abs/2110.07492.\n",
    "def solve_regularized_gen_eig(\n",
    "    h: np.ndarray,\n",
    "    s: np.ndarray,\n",
    "    threshold: float,\n",
    ") -> float:\n",
    "    if np.isclose(threshold, 0, atol=1e-10):\n",
    "        h_reg = h\n",
    "        s_reg = s\n",
    "    else:\n",
    "        s_vals, s_vecs = sp.linalg.eigh(s)\n",
    "        s_vecs = s_vecs.T\n",
    "        good_vecs = np.array(\n",
    "            [vec for val, vec in zip(s_vals, s_vecs) if val > threshold]\n",
    "        )\n",
    "        h_reg = good_vecs.conj() @ h @ good_vecs.T\n",
    "        s_reg = good_vecs.conj() @ s @ good_vecs.T\n",
    "        return sp.linalg.eigh(h_reg, s_reg)[0][0]"
   ]
  },
  {
   "cell_type": "markdown",
   "id": "f28a6e05",
   "metadata": {},
   "source": [
    "## Problem definition"
   ]
  },
  {
   "cell_type": "code",
   "execution_count": 3,
   "id": "950cfcfa",
   "metadata": {},
   "outputs": [
    {
     "data": {
      "text/plain": [
       "8"
      ]
     },
     "execution_count": 3,
     "metadata": {},
     "output_type": "execute_result"
    }
   ],
   "source": [
    "hamiltonian = of.jordan_wigner(\n",
    "    of.hamiltonians.fermi_hubbard(\n",
    "        x_dimension=2,\n",
    "        y_dimension=2,\n",
    "        tunneling=1.0,\n",
    "        coulomb=1.0,\n",
    "        periodic=False,\n",
    "    )\n",
    ")\n",
    "nqubits = of.utils.count_qubits(hamiltonian)\n",
    "nqubits"
   ]
  },
  {
   "cell_type": "code",
   "execution_count": 4,
   "id": "054729db",
   "metadata": {},
   "outputs": [],
   "source": [
    "hamiltonian_cirq = of.qubit_operator_to_pauli_sum(hamiltonian)\n",
    "matrix = hamiltonian_cirq.matrix()"
   ]
  },
  {
   "cell_type": "code",
   "execution_count": 5,
   "id": "4c0df1ba",
   "metadata": {},
   "outputs": [
    {
     "data": {
      "text/plain": [
       "-3.7852608648296595"
      ]
     },
     "execution_count": 5,
     "metadata": {},
     "output_type": "execute_result"
    }
   ],
   "source": [
    "evals_exact, evecs_exact = np.linalg.eigh(matrix)\n",
    "ground_state = evecs_exact.T[0]\n",
    "energy_exact = min(evals_exact)\n",
    "energy_exact"
   ]
  },
  {
   "cell_type": "markdown",
   "id": "4ebaa8c1",
   "metadata": {},
   "source": [
    "## Parameters"
   ]
  },
  {
   "cell_type": "code",
   "execution_count": 6,
   "id": "c4fc1c48",
   "metadata": {},
   "outputs": [],
   "source": [
    "subspace_dimension: int = 16\n",
    "threshold: float = 1e-4"
   ]
  },
  {
   "cell_type": "code",
   "execution_count": 7,
   "id": "68f6fff9",
   "metadata": {},
   "outputs": [
    {
     "data": {
      "text/plain": [
       "0.011215857792854047"
      ]
     },
     "execution_count": 7,
     "metadata": {},
     "output_type": "execute_result"
    }
   ],
   "source": [
    "bvec = ground_state + np.random.randn(ground_state.shape[0]) / 1.0\n",
    "bvec /= np.linalg.norm(bvec)\n",
    "\n",
    "overlap = np.abs(bvec.conj().T @ ground_state) ** 2\n",
    "overlap"
   ]
  },
  {
   "cell_type": "markdown",
   "id": "9b27d6bf",
   "metadata": {},
   "source": [
    "## Krylov with $H$"
   ]
  },
  {
   "cell_type": "code",
   "execution_count": 8,
   "id": "8306167d",
   "metadata": {},
   "outputs": [],
   "source": [
    "vectors = [bvec]\n",
    "for i in range(subspace_dimension - 1):\n",
    "    vectors.append(\n",
    "        matrix @ vectors[-1]\n",
    "    )"
   ]
  },
  {
   "cell_type": "code",
   "execution_count": 9,
   "id": "b40463a7",
   "metadata": {},
   "outputs": [],
   "source": [
    "h, s = fill_h_and_s_matrices(vectors, matrix)"
   ]
  },
  {
   "cell_type": "code",
   "execution_count": 10,
   "id": "94705e5b",
   "metadata": {},
   "outputs": [
    {
     "name": "stdout",
     "output_type": "stream",
     "text": [
      "0.8262098936894773\n",
      "-1.434771335163973\n",
      "-2.6658808512010514\n",
      "-3.2100946294751576\n",
      "-3.455902082394961\n",
      "-3.551052720806858\n",
      "-3.6065075321808013\n",
      "-3.6441683525563673\n",
      "-3.68076279297174\n",
      "-3.7156995979903833\n",
      "-3.7427958972742323\n",
      "-3.7586423575541694\n",
      "-3.7654653714208184\n",
      "-3.7739293935079576\n",
      "-3.7785493293979346\n",
      "-3.7839376341099493\n"
     ]
    }
   ],
   "source": [
    "krylov_evals = []\n",
    "for d in range(1, len(h) + 1):\n",
    "    krylov_energy = solve_regularized_gen_eig(h[:d, :d], s[:d, :d], threshold=threshold)\n",
    "    print(krylov_energy)\n",
    "    krylov_evals.append(krylov_energy)"
   ]
  },
  {
   "cell_type": "code",
   "execution_count": 11,
   "id": "74402f18",
   "metadata": {},
   "outputs": [
    {
     "data": {
      "image/png": "[encoded data removed]",
      "text/plain": [
       "<Figure size 640x480 with 1 Axes>"
      ]
     },
     "metadata": {},
     "output_type": "display_data"
    }
   ],
   "source": [
    "plt.plot(krylov_evals, \"--o\", label=\"Krylov with $H$\")\n",
    "plt.axhline(energy_exact, ls=\"--\", color=\"black\", label=\"Exact\")\n",
    "plt.xlabel(\"Subspace dimension $d$\")\n",
    "plt.ylabel(\"Eigenvalue\")\n",
    "plt.legend();"
   ]
  },
  {
   "cell_type": "markdown",
   "id": "b39c0bb0",
   "metadata": {},
   "source": [
    "### Unitary Krylov"
   ]
  },
  {
   "cell_type": "code",
   "execution_count": 12,
   "id": "5000f528",
   "metadata": {},
   "outputs": [
    {
     "data": {
      "text/plain": [
       "0.31172122367084315"
      ]
     },
     "execution_count": 12,
     "metadata": {},
     "output_type": "execute_result"
    }
   ],
   "source": [
    "# See Theorem 3.1 of https://arxiv.org/abs/2110.07492.\n",
    "dt = np.pi / (evals_exact[-1] - evals_exact[0])\n",
    "dt"
   ]
  },
  {
   "cell_type": "code",
   "execution_count": 13,
   "id": "6083ed75",
   "metadata": {},
   "outputs": [
    {
     "name": "stdout",
     "output_type": "stream",
     "text": [
      "-8\n",
      "-7\n",
      "-6\n",
      "-5\n",
      "-4\n",
      "-3\n",
      "-2\n",
      "-1\n",
      "0\n",
      "1\n",
      "2\n",
      "3\n",
      "4\n",
      "5\n",
      "6\n",
      "7\n",
      "8\n"
     ]
    }
   ],
   "source": [
    "vectors_u = []\n",
    "for k in range(-subspace_dimension // 2, subspace_dimension // 2 + 1, 1):\n",
    "    print(k)\n",
    "    Uk = sp.linalg.expm(-1j * matrix * k * dt)\n",
    "    vectors_u.append(Uk @ bvec)"
   ]
  },
  {
   "cell_type": "code",
   "execution_count": 14,
   "id": "f0673941",
   "metadata": {},
   "outputs": [],
   "source": [
    "h, s = fill_h_and_s_matrices(vectors_u, matrix)"
   ]
  },
  {
   "cell_type": "code",
   "execution_count": 15,
   "id": "76623503",
   "metadata": {},
   "outputs": [
    {
     "name": "stdout",
     "output_type": "stream",
     "text": [
      "0.8262098936894772\n",
      "-1.2513329493578236\n",
      "-2.452665805846241\n",
      "-3.0532230355564174\n",
      "-3.3677187290458566\n",
      "-3.49481291697968\n",
      "-3.456445186245479\n",
      "-3.5430806254547296\n",
      "-3.591708212333222\n",
      "-3.571287299356982\n",
      "-3.611032302122347\n",
      "-3.5915911460594114\n",
      "-3.625776028024574\n",
      "-3.664301287965036\n",
      "-3.645296714158582\n",
      "-3.675885323084766\n"
     ]
    }
   ],
   "source": [
    "krylov_u_evals = []\n",
    "for d in range(1, len(h)):\n",
    "    krylov_energy = solve_regularized_gen_eig(h[:d, :d], s[:d, :d], threshold=threshold)\n",
    "    print(krylov_energy)\n",
    "    krylov_u_evals.append(krylov_energy)"
   ]
  },
  {
   "cell_type": "code",
   "execution_count": 16,
   "id": "7391dfd6",
   "metadata": {},
   "outputs": [
    {
     "data": {
      "image/png": "[encoded data removed]",
      "text/plain": [
       "<Figure size 640x480 with 1 Axes>"
      ]
     },
     "metadata": {},
     "output_type": "display_data"
    }
   ],
   "source": [
    "plt.plot(krylov_evals, \"--o\", label=\"Krylov with $H$\")\n",
    "plt.plot(krylov_u_evals, \"--o\", label=\"Krylov with $U$\")\n",
    "plt.axhline(energy_exact, ls=\"--\", color=\"black\", label=\"Exact\")\n",
    "plt.xlabel(\"Subspace dimension $d$\")\n",
    "plt.ylabel(\"Eigenvalue\")\n",
    "plt.title(f\"{nqubits}-qubit Fermi-Hubbard Hamiltonian\\nInitial state overlap with ground state = {round(overlap, 3)}\")\n",
    "plt.legend();"
   ]
  },
  {
   "cell_type": "markdown",
   "id": "9de80847",
   "metadata": {},
   "source": []
  }
 ],
 "metadata": {
  "kernelspec": {
   "display_name": "envcompare",
   "language": "python",
   "name": "envcompare"
  },
  "language_info": {
   "codemirror_mode": {
    "name": "ipython",
    "version": 3
   },
   "file_extension": ".py",
   "mimetype": "text/x-python",
   "name": "python",
   "nbconvert_exporter": "python",
   "pygments_lexer": "ipython3",
   "version": "3.10.12"
  }
 },
 "nbformat": 4,
 "nbformat_minor": 5
}

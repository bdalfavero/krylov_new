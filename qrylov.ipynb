{
 "cells": [
  {
   "cell_type": "markdown",
   "id": "88957916",
   "metadata": {},
   "source": [
    "# Qrylov"
   ]
  },
  {
   "cell_type": "markdown",
   "id": "7aa7ecf0",
   "metadata": {},
   "source": [
    "## Setup"
   ]
  },
  {
   "cell_type": "code",
   "execution_count": 52,
   "id": "cf873f86",
   "metadata": {},
   "outputs": [],
   "source": [
    "from typing import List, Tuple\n",
    "\n",
    "import matplotlib.pyplot as plt\n",
    "import numpy as np\n",
    "import scipy as sp\n",
    "\n",
    "import openfermion as of"
   ]
  },
  {
   "cell_type": "code",
   "execution_count": 53,
   "id": "5ce8c132",
   "metadata": {},
   "outputs": [],
   "source": [
    "def fill_h_and_s_matrices(\n",
    "    vectors: List[np.ndarray],\n",
    "    matrix: np.ndarray,\n",
    "    verbose: bool = False,\n",
    ") -> Tuple[np.ndarray, np.ndarray]:\n",
    "    dim = len(vectors)\n",
    "    h = np.zeros((dim, dim), dtype=np.complex128)\n",
    "    s = np.zeros((dim, dim), dtype=np.complex128)\n",
    "\n",
    "    for i in range(dim):\n",
    "        for j in range(i, dim):\n",
    "            if verbose:\n",
    "                print(i, j)\n",
    "            hij = vectors[i].conj().T @ matrix @ vectors[j]\n",
    "            h[i, j] = hij\n",
    "\n",
    "            if i != j:\n",
    "                h[j, i] = np.conjugate(hij)\n",
    "\n",
    "            sij = vectors[i].conj().T @ vectors[j]\n",
    "            s[i, j] = sij\n",
    "            if i != j:\n",
    "                s[j, i] = np.conjugate(sij)\n",
    "    return h, s\n",
    "\n",
    "\n",
    "# Based on https://quantum.cloud.ibm.com/docs/en/tutorials/krylov-quantum-diagonalization.\n",
    "# and Algorithm 1.1 of https://arxiv.org/abs/2110.07492.\n",
    "def solve_regularized_gen_eig(\n",
    "    h: np.ndarray,\n",
    "    s: np.ndarray,\n",
    "    threshold: float,\n",
    ") -> float:\n",
    "    if np.isclose(threshold, 0, atol=1e-10):\n",
    "        h_reg = h\n",
    "        s_reg = s\n",
    "    else:\n",
    "        s_vals, s_vecs = sp.linalg.eigh(s)\n",
    "        s_vecs = s_vecs.T\n",
    "        good_vecs = np.array(\n",
    "            [vec for val, vec in zip(s_vals, s_vecs) if val > threshold]\n",
    "        )\n",
    "        h_reg = good_vecs.conj() @ h @ good_vecs.T\n",
    "        s_reg = good_vecs.conj() @ s @ good_vecs.T\n",
    "        return sp.linalg.eigh(h_reg, s_reg)[0][0]"
   ]
  },
  {
   "cell_type": "markdown",
   "id": "f28a6e05",
   "metadata": {},
   "source": [
    "## Problem definition"
   ]
  },
  {
   "cell_type": "code",
   "execution_count": 54,
   "id": "950cfcfa",
   "metadata": {},
   "outputs": [
    {
     "data": {
      "text/plain": [
       "8"
      ]
     },
     "execution_count": 54,
     "metadata": {},
     "output_type": "execute_result"
    }
   ],
   "source": [
    "hamiltonian = of.jordan_wigner(\n",
    "    of.hamiltonians.fermi_hubbard(\n",
    "        x_dimension=2,\n",
    "        y_dimension=2,\n",
    "        tunneling=1.0,\n",
    "        coulomb=1.0,\n",
    "        periodic=False,\n",
    "    )\n",
    ")\n",
    "nqubits = of.utils.count_qubits(hamiltonian)\n",
    "nqubits"
   ]
  },
  {
   "cell_type": "code",
   "execution_count": 55,
   "id": "054729db",
   "metadata": {},
   "outputs": [],
   "source": [
    "hamiltonian_cirq = of.qubit_operator_to_pauli_sum(hamiltonian)\n",
    "matrix = hamiltonian_cirq.matrix()"
   ]
  },
  {
   "cell_type": "code",
   "execution_count": 56,
   "id": "4c0df1ba",
   "metadata": {},
   "outputs": [
    {
     "data": {
      "text/plain": [
       "-3.785260864829659"
      ]
     },
     "execution_count": 56,
     "metadata": {},
     "output_type": "execute_result"
    }
   ],
   "source": [
    "evals_exact, evecs_exact = np.linalg.eigh(matrix)\n",
    "ground_state = evecs_exact.T[0]\n",
    "energy_exact = min(evals_exact)\n",
    "energy_exact"
   ]
  },
  {
   "cell_type": "markdown",
   "id": "4ebaa8c1",
   "metadata": {},
   "source": [
    "## Parameters"
   ]
  },
  {
   "cell_type": "code",
   "execution_count": 57,
   "id": "c4fc1c48",
   "metadata": {},
   "outputs": [],
   "source": [
    "subspace_dimension: int = 15\n",
    "threshold: float = 1e-4"
   ]
  },
  {
   "cell_type": "code",
   "execution_count": 58,
   "id": "68f6fff9",
   "metadata": {},
   "outputs": [
    {
     "data": {
      "text/plain": [
       "0.015573348541901667"
      ]
     },
     "execution_count": 58,
     "metadata": {},
     "output_type": "execute_result"
    }
   ],
   "source": [
    "bvec = ground_state + np.random.randn(ground_state.shape[0]) / 1.0\n",
    "bvec /= np.linalg.norm(bvec)\n",
    "\n",
    "overlap = np.abs(bvec.conj().T @ ground_state) ** 2\n",
    "overlap"
   ]
  },
  {
   "cell_type": "markdown",
   "id": "9b27d6bf",
   "metadata": {},
   "source": [
    "## Krylov with $H$"
   ]
  },
  {
   "cell_type": "code",
   "execution_count": 59,
   "id": "8306167d",
   "metadata": {},
   "outputs": [
    {
     "name": "stderr",
     "output_type": "stream",
     "text": [
      "/var/folders/62/vpq4vzfx3zlfyyr3mw8zdmrc0000gn/T/ipykernel_56704/1531833945.py:4: RuntimeWarning: divide by zero encountered in matmul\n",
      "  matrix @ vectors[-1]\n",
      "/var/folders/62/vpq4vzfx3zlfyyr3mw8zdmrc0000gn/T/ipykernel_56704/1531833945.py:4: RuntimeWarning: overflow encountered in matmul\n",
      "  matrix @ vectors[-1]\n",
      "/var/folders/62/vpq4vzfx3zlfyyr3mw8zdmrc0000gn/T/ipykernel_56704/1531833945.py:4: RuntimeWarning: invalid value encountered in matmul\n",
      "  matrix @ vectors[-1]\n"
     ]
    }
   ],
   "source": [
    "vectors = [bvec]\n",
    "for i in range(subspace_dimension - 1):\n",
    "    vectors.append(\n",
    "        matrix @ vectors[-1]\n",
    "    )"
   ]
  },
  {
   "cell_type": "code",
   "execution_count": 60,
   "id": "b40463a7",
   "metadata": {},
   "outputs": [
    {
     "name": "stderr",
     "output_type": "stream",
     "text": [
      "/var/folders/62/vpq4vzfx3zlfyyr3mw8zdmrc0000gn/T/ipykernel_56704/2974860614.py:14: RuntimeWarning: divide by zero encountered in matmul\n",
      "  hij = vectors[i].conj().T @ matrix @ vectors[j]\n",
      "/var/folders/62/vpq4vzfx3zlfyyr3mw8zdmrc0000gn/T/ipykernel_56704/2974860614.py:14: RuntimeWarning: overflow encountered in matmul\n",
      "  hij = vectors[i].conj().T @ matrix @ vectors[j]\n",
      "/var/folders/62/vpq4vzfx3zlfyyr3mw8zdmrc0000gn/T/ipykernel_56704/2974860614.py:14: RuntimeWarning: invalid value encountered in matmul\n",
      "  hij = vectors[i].conj().T @ matrix @ vectors[j]\n"
     ]
    }
   ],
   "source": [
    "h, s = fill_h_and_s_matrices(vectors, matrix)"
   ]
  },
  {
   "cell_type": "code",
   "execution_count": 61,
   "id": "94705e5b",
   "metadata": {},
   "outputs": [
    {
     "name": "stdout",
     "output_type": "stream",
     "text": [
      "0.8188172491335913\n",
      "-1.1072190279273189\n",
      "-2.5107311116772637\n",
      "-3.1890682583661083\n",
      "-3.4785371851170668\n",
      "-3.601091461114777\n",
      "-3.6590385002760732\n",
      "-3.70214705510262\n",
      "-3.7339404115847845\n",
      "-3.7553455417009696\n",
      "-3.7679831860487716\n",
      "-3.7750444695474963\n",
      "-3.7782637202570943\n",
      "-3.7810240450439023\n",
      "-3.7828956157736418\n"
     ]
    },
    {
     "name": "stderr",
     "output_type": "stream",
     "text": [
      "/var/folders/62/vpq4vzfx3zlfyyr3mw8zdmrc0000gn/T/ipykernel_56704/2974860614.py:43: RuntimeWarning: divide by zero encountered in matmul\n",
      "  h_reg = good_vecs.conj() @ h @ good_vecs.T\n",
      "/var/folders/62/vpq4vzfx3zlfyyr3mw8zdmrc0000gn/T/ipykernel_56704/2974860614.py:43: RuntimeWarning: overflow encountered in matmul\n",
      "  h_reg = good_vecs.conj() @ h @ good_vecs.T\n",
      "/var/folders/62/vpq4vzfx3zlfyyr3mw8zdmrc0000gn/T/ipykernel_56704/2974860614.py:43: RuntimeWarning: invalid value encountered in matmul\n",
      "  h_reg = good_vecs.conj() @ h @ good_vecs.T\n",
      "/var/folders/62/vpq4vzfx3zlfyyr3mw8zdmrc0000gn/T/ipykernel_56704/2974860614.py:44: RuntimeWarning: divide by zero encountered in matmul\n",
      "  s_reg = good_vecs.conj() @ s @ good_vecs.T\n",
      "/var/folders/62/vpq4vzfx3zlfyyr3mw8zdmrc0000gn/T/ipykernel_56704/2974860614.py:44: RuntimeWarning: overflow encountered in matmul\n",
      "  s_reg = good_vecs.conj() @ s @ good_vecs.T\n",
      "/var/folders/62/vpq4vzfx3zlfyyr3mw8zdmrc0000gn/T/ipykernel_56704/2974860614.py:44: RuntimeWarning: invalid value encountered in matmul\n",
      "  s_reg = good_vecs.conj() @ s @ good_vecs.T\n"
     ]
    }
   ],
   "source": [
    "krylov_evals = []\n",
    "for d in range(1, len(h) + 1):\n",
    "    krylov_energy = solve_regularized_gen_eig(h[:d, :d], s[:d, :d], threshold=threshold)\n",
    "    print(krylov_energy)\n",
    "    krylov_evals.append(krylov_energy)"
   ]
  },
  {
   "cell_type": "code",
   "execution_count": 62,
   "id": "74402f18",
   "metadata": {},
   "outputs": [
    {
     "data": {
      "image/png": "[encoded data removed]",
      "text/plain": [
       "<Figure size 640x480 with 1 Axes>"
      ]
     },
     "metadata": {},
     "output_type": "display_data"
    }
   ],
   "source": [
    "err = np.abs(krylov_energy - energy_exact)\n",
    "plt.plot(krylov_evals, \"--o\", label=\"Krylov with $H$\")\n",
    "plt.axhline(energy_exact, ls=\"--\", color=\"black\", label=\"Exact\")\n",
    "plt.xlabel(\"Subspace dimension $d$\")\n",
    "plt.ylabel(\"Eigenvalue\")\n",
    "plt.legend();"
   ]
  },
  {
   "cell_type": "markdown",
   "id": "b39c0bb0",
   "metadata": {},
   "source": [
    "### Unitary Krylov"
   ]
  },
  {
   "cell_type": "code",
   "execution_count": 63,
   "id": "5000f528",
   "metadata": {},
   "outputs": [
    {
     "data": {
      "text/plain": [
       "0.3117212236708433"
      ]
     },
     "execution_count": 63,
     "metadata": {},
     "output_type": "execute_result"
    }
   ],
   "source": [
    "# See Theorem 3.1 of https://arxiv.org/abs/2110.07492.\n",
    "dt = np.pi / (evals_exact[-1] - evals_exact[0])\n",
    "dt"
   ]
  },
  {
   "cell_type": "code",
   "execution_count": 64,
   "id": "6083ed75",
   "metadata": {},
   "outputs": [
    {
     "name": "stdout",
     "output_type": "stream",
     "text": [
      "-8\n",
      "-7\n",
      "-6\n",
      "-5\n",
      "-4\n",
      "-3\n",
      "-2\n",
      "-1\n",
      "0\n",
      "1\n",
      "2\n",
      "3\n",
      "4\n",
      "5\n",
      "6\n",
      "7\n"
     ]
    },
    {
     "name": "stderr",
     "output_type": "stream",
     "text": [
      "/Users/benjamindalfavero/.venv/compare/lib/python3.13/site-packages/scipy/linalg/_matfuncs.py:373: RuntimeWarning: divide by zero encountered in matmul\n",
      "  eAw = eAw @ eAw\n",
      "/Users/benjamindalfavero/.venv/compare/lib/python3.13/site-packages/scipy/linalg/_matfuncs.py:373: RuntimeWarning: overflow encountered in matmul\n",
      "  eAw = eAw @ eAw\n",
      "/Users/benjamindalfavero/.venv/compare/lib/python3.13/site-packages/scipy/linalg/_matfuncs.py:373: RuntimeWarning: invalid value encountered in matmul\n",
      "  eAw = eAw @ eAw\n",
      "/var/folders/62/vpq4vzfx3zlfyyr3mw8zdmrc0000gn/T/ipykernel_56704/1061688123.py:5: RuntimeWarning: divide by zero encountered in matmul\n",
      "  vectors_u.append(Uk @ bvec)\n",
      "/var/folders/62/vpq4vzfx3zlfyyr3mw8zdmrc0000gn/T/ipykernel_56704/1061688123.py:5: RuntimeWarning: overflow encountered in matmul\n",
      "  vectors_u.append(Uk @ bvec)\n",
      "/var/folders/62/vpq4vzfx3zlfyyr3mw8zdmrc0000gn/T/ipykernel_56704/1061688123.py:5: RuntimeWarning: invalid value encountered in matmul\n",
      "  vectors_u.append(Uk @ bvec)\n"
     ]
    }
   ],
   "source": [
    "vectors_u = []\n",
    "for k in range(-subspace_dimension // 2, subspace_dimension // 2 + 1, 1):\n",
    "    print(k)\n",
    "    Uk = sp.linalg.expm(-1j * matrix * k * dt)\n",
    "    vectors_u.append(Uk @ bvec)"
   ]
  },
  {
   "cell_type": "code",
   "execution_count": 65,
   "id": "f0673941",
   "metadata": {},
   "outputs": [
    {
     "name": "stderr",
     "output_type": "stream",
     "text": [
      "/var/folders/62/vpq4vzfx3zlfyyr3mw8zdmrc0000gn/T/ipykernel_56704/2974860614.py:14: RuntimeWarning: divide by zero encountered in matmul\n",
      "  hij = vectors[i].conj().T @ matrix @ vectors[j]\n",
      "/var/folders/62/vpq4vzfx3zlfyyr3mw8zdmrc0000gn/T/ipykernel_56704/2974860614.py:14: RuntimeWarning: overflow encountered in matmul\n",
      "  hij = vectors[i].conj().T @ matrix @ vectors[j]\n",
      "/var/folders/62/vpq4vzfx3zlfyyr3mw8zdmrc0000gn/T/ipykernel_56704/2974860614.py:14: RuntimeWarning: invalid value encountered in matmul\n",
      "  hij = vectors[i].conj().T @ matrix @ vectors[j]\n"
     ]
    }
   ],
   "source": [
    "h, s = fill_h_and_s_matrices(vectors_u, matrix)"
   ]
  },
  {
   "cell_type": "code",
   "execution_count": 66,
   "id": "76623503",
   "metadata": {},
   "outputs": [
    {
     "name": "stdout",
     "output_type": "stream",
     "text": [
      "0.8188172491335914\n",
      "-0.9271493726525736\n",
      "-2.235834653759868\n",
      "-2.9803979376658365\n",
      "-3.3503678581402268\n",
      "-3.5296516861224956\n",
      "-3.4754819218456516\n",
      "-3.5778202573865894\n",
      "-3.6375132421549985\n",
      "-3.6087065065325774\n",
      "-3.6611778043240597\n",
      "-3.7019871410738574\n",
      "-3.6807638243680474\n",
      "-3.7197951157778197\n",
      "-3.7005904805393466\n"
     ]
    }
   ],
   "source": [
    "krylov_u_evals = []\n",
    "for d in range(1, len(h)):\n",
    "    krylov_energy = solve_regularized_gen_eig(h[:d, :d], s[:d, :d], threshold=threshold)\n",
    "    print(krylov_energy)\n",
    "    krylov_u_evals.append(krylov_energy)"
   ]
  },
  {
   "cell_type": "code",
   "execution_count": 67,
   "id": "7391dfd6",
   "metadata": {},
   "outputs": [
    {
     "data": {
      "image/png": "[encoded data removed]",
      "text/plain": [
       "<Figure size 640x480 with 1 Axes>"
      ]
     },
     "metadata": {},
     "output_type": "display_data"
    }
   ],
   "source": [
    "plt.plot(krylov_evals, \"--o\", label=\"Krylov with $H$\")\n",
    "plt.plot(krylov_u_evals, \"--o\", label=\"Krylov with $U$\")\n",
    "plt.axhline(energy_exact, ls=\"--\", color=\"black\", label=\"Exact\")\n",
    "plt.xlabel(\"Subspace dimension $d$\")\n",
    "plt.ylabel(\"Eigenvalue\")\n",
    "plt.title(f\"{nqubits}-qubit Fermi-Hubbard Hamiltonian\\nInitial state overlap with ground state = {round(overlap, 3)}\")\n",
    "plt.legend();"
   ]
  },
  {
   "cell_type": "markdown",
   "id": "9de80847",
   "metadata": {},
   "source": []
  },
  {
   "cell_type": "code",
   "execution_count": 68,
   "id": "3268af79",
   "metadata": {},
   "outputs": [
    {
     "data": {
      "image/png": "[encoded data removed]",
      "text/plain": [
       "<Figure size 640x480 with 1 Axes>"
      ]
     },
     "metadata": {},
     "output_type": "display_data"
    }
   ],
   "source": [
    "fig, ax = plt.subplots()\n",
    "err = np.abs(krylov_evals - energy_exact)\n",
    "ax.plot(err)\n",
    "ax.set_yscale(\"log\")"
   ]
  },
  {
   "cell_type": "code",
   "execution_count": null,
   "id": "a2580b3e",
   "metadata": {},
   "outputs": [],
   "source": []
  }
 ],
 "metadata": {
  "kernelspec": {
   "display_name": "compare (3.13.7)",
   "language": "python",
   "name": "python3"
  },
  "language_info": {
   "codemirror_mode": {
    "name": "ipython",
    "version": 3
   },
   "file_extension": ".py",
   "mimetype": "text/x-python",
   "name": "python",
   "nbconvert_exporter": "python",
   "pygments_lexer": "ipython3",
   "version": "3.13.7"
  }
 },
 "nbformat": 4,
 "nbformat_minor": 5
}
